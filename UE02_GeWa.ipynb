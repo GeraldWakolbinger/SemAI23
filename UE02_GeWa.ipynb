{
  "cells": [
    {
      "cell_type": "markdown",
      "metadata": {
        "id": "BS4vo37YWsYf"
      },
      "source": [
        "# UE02 - RDF and RDF Schema\n",
        "\n",
        "Before you start with this notebook, complete the eight tasks in the `1. RDF` sheet of `SemAI.jar`. You will then make use of your solutions in this notebook. \n",
        "\n",
        "## Task 0: Preparation\n",
        "\n",
        "Preparation (Installs and Imports). \n",
        "\n",
        "\n"
      ]
    },
    {
      "cell_type": "code",
      "source": [
        "# Install required packages in the current Jupyter kernel\n",
        "!pip install -q rdflib \n",
        "!pip install -q pydot\n",
        "!pip install -q owlrl\n",
        "\n",
        "!pip install networkx pyvis\n",
        "\n",
        "import rdflib\n",
        "from rdflib import Graph, Literal, RDF, URIRef, BNode, Namespace, Dataset\n",
        "import networkx as nx\n",
        "from pyvis.network import Network\n",
        "import requests\n",
        "from IPython.display import display, HTML, Image\n",
        "import os\n",
        "import pydot\n",
        "import owlrl\n",
        "from rdflib.namespace import FOAF , XSD , RDFS \n",
        "\n"
      ],
      "metadata": {
        "id": "UNTabDt9SLuw"
      },
      "execution_count": null,
      "outputs": []
    },
    {
      "cell_type": "markdown",
      "source": [
        "## Task 1:  Improve interactive RDF graph visualization (1 pt)\n",
        "\n",
        "Improve function `visualize_graph_pyvis` (from `V01_rdf.ipynb`) as follows:\n",
        "- an optional `base` parameter\n",
        "- abbreviate the labels of nodes and edges in the same way as in `visualize_graph`. \n",
        "- make sure that blank node IDs are not shown in the visualization. \n",
        "\n",
        "Optional features: \n",
        "- use different graphical forms for literals and URIs\n",
        "- (add further improvements as you like)\n",
        "\n",
        "Test the function with `rdf_str` and with your solution to task `0. Intro` in the `1. RDF` sheet in `SemAI.jar`."
      ],
      "metadata": {
        "id": "vc2iBjkcQQvD"
      }
    },
    {
      "cell_type": "code",
      "source": [
        "from rdflib import namespace\n",
        "#rdf_str = \"./sample_data/rdf_str.ttl\"\n",
        "#rdfIntroPath = \"./sample_data/rdf_intro.ttl\"\n",
        "\n",
        "\n",
        "def visualize_graph_pyvis(g,base=None):\n",
        "\n",
        "    # Create the NetworkX graph\n",
        "    nx_graph = nx.DiGraph()\n",
        "\n",
        "    namespaceDict = {}\n",
        "    for ns in g.namespace_manager.namespaces():\n",
        "      namespaceDict[str(ns[1])] = ns[0]\n",
        "    \n",
        "    for s, p, o in g:\n",
        "        if base:\n",
        "          if base in s.n3(): s = (s.replace(base,\"<\")+\">\")\n",
        "          if base in p.n3(): p = (p.replace(base,\"<\")+\">\")\n",
        "          if base in o.n3(): o = (o.replace(base,\"<\")+\">\")\n",
        "        \n",
        "        if isinstance(s, BNode): s = \"BNode\" + s \n",
        "        if isinstance(p, BNode): p = \"BNode\" + p  \n",
        "        if isinstance(o, BNode): o = \"BNode\" + o\n",
        "\n",
        "        #print(o)\n",
        "        if isinstance(o, Literal) and o.datatype != None: o = str(o) +\"^^\" + str(o.datatype)\n",
        "        \n",
        "        for key in namespaceDict.keys():\n",
        "          s = s.replace(key,str(namespaceDict[key]+\":\"))\n",
        "          p = p.replace(key,str(namespaceDict[key]+\":\"))\n",
        "          o = o.replace(key,str(namespaceDict[key]+\":\"))\n",
        "        nx_graph.add_edge(s, o, label=p)\n",
        "\n",
        "        \n",
        "\n",
        "    # Create a PyVis network graph\n",
        "    pyvis_graph = Network(notebook=True, cdn_resources='in_line',bgcolor=\"#EEEEEE\")\n",
        "    ###pyvis_graph.barnes_hut()\n",
        "    ###pyvis_graph.show_buttons(filter_=['physics'])\n",
        "\n",
        "    pyvis_graph.from_nx(nx_graph)\n",
        "\n",
        "    # Customize the node appearance\n",
        "    for node in pyvis_graph.nodes:\n",
        "        node[\"shape\"] = \"dot\"\n",
        "        node[\"size\"] = 10\n",
        "        node[\"font\"] = {\"size\": 10}\n",
        "\n",
        "    # Customize the edge appearance\n",
        "    for edge in pyvis_graph.edges:\n",
        "        edge[\"width\"] = 0.5\n",
        "        edge[\"font\"] = {\"size\": 8, \"align\": \"middle\"}\n",
        "        edge[\"arrows\"] = \"to\"\n",
        "\n",
        "    nodeList = pyvis_graph.get_nodes()\n",
        "    for n in nodeList:\n",
        "      if n.startswith(\"BNode\"): \n",
        "        node = pyvis_graph.get_node(n)\n",
        "        node['label'] = \"\"\n",
        "    #print(nodeList)\n",
        "\n",
        "    edgeList = pyvis_graph.get_edges()\n",
        "    for e in edgeList:\n",
        "      if e['label'].startswith(\"BNode\"): e['label'] = \"\"\n",
        "\n",
        "      #print(e)\n",
        "\n",
        "\n",
        "    # Define the HTML file name\n",
        "    html_file = 'graph.html'    \n",
        "    \n",
        "    # Show the graph in the notebook\n",
        "    pyvis_graph.show(html_file)\n",
        "\n",
        "    # Check if the file exists\n",
        "    if os.path.isfile(html_file):\n",
        "        # Read the content of the HTML file\n",
        "        with open(html_file, 'r') as file:\n",
        "            html_content = file.read()\n",
        "        # Display the HTML content in the notebook\n",
        "        display(HTML(html_content))\n",
        "    else:\n",
        "        print(f\"File not found: {html_file}\")\n",
        "\n",
        "\n",
        "\n"
      ],
      "metadata": {
        "id": "Y3-jE3kNQAY4"
      },
      "execution_count": null,
      "outputs": []
    },
    {
      "cell_type": "code",
      "source": [
        "#T0\n",
        "\n",
        "g = Graph()\n",
        "g.parse(format=\"turtle\",data=\"\"\"\n",
        "@prefix rdf:  <http://www.w3.org/1999/02/22-rdf-syntax-ns#> .\n",
        "@prefix foaf: <http://xmlns.com/foaf/0.1/> .\n",
        "@prefix ex:   <http://www.ex.org/> .\n",
        "\n",
        "ex:John a foaf:Person .\n",
        "ex:John foaf:knows ex:Mary .\n",
        "\n",
        "\"\"\")\n",
        "visualize_graph_pyvis(g)"
      ],
      "metadata": {
        "id": "A5UzvWk-136h"
      },
      "execution_count": null,
      "outputs": []
    },
    {
      "cell_type": "code",
      "source": [
        "#Task 1\n",
        "\n",
        "g = Graph()\n",
        "g.parse(data = \"\"\"@prefix rdf:  <http://www.w3.org/1999/02/22-rdf-syntax-ns#> .\n",
        "@prefix rdfs: <http://www.w3.org/2000/01/rdf-schema#> .\n",
        "@prefix xsd:  <http://www.w3.org/2001/XMLSchema#> .\n",
        "@prefix foaf: <http://xmlns.com/foaf/0.1/> .\n",
        "@prefix :     <http://www.ex.org/person#> .\n",
        "\n",
        ":Mary a foaf:Person .\n",
        ":Jim a foaf:Person .\n",
        ":Mary foaf:knows :Jim .\n",
        ":Mary foaf:age \"27\"^^xsd:integer .\"\"\", format=\"text/turtle\")\n",
        "\n",
        "visualize_graph_pyvis(g)"
      ],
      "metadata": {
        "id": "ubiIVCE2mho0"
      },
      "execution_count": null,
      "outputs": []
    },
    {
      "cell_type": "code",
      "source": [
        "g = Graph()\n",
        "g.parse(data=\"\"\"BASE   <http://example.org/>\n",
        "PREFIX foaf: <http://xmlns.com/foaf/0.1/>\n",
        "PREFIX xsd: <http://www.w3.org/2001/XMLSchema#>\n",
        "PREFIX schema: <http://schema.org/>\n",
        "PREFIX dcterms: <http://purl.org/dc/terms/>\n",
        "PREFIX wd: <http://www.wikidata.org/entity/>\n",
        " \n",
        "<bob#me>\n",
        "   a foaf:Person ;\n",
        "   foaf:knows <alice#me> ;\n",
        "   schema:birthDate \"1990-07-04\"^^xsd:date ;\n",
        "   foaf:topic_interest wd:Q12418 .\n",
        "   \n",
        "wd:Q12418\n",
        "  dcterms:title \"Mona Lisa\" ;\n",
        "  dcterms:creator <http://dbpedia.org/resource/Leonardo_da_Vinci> .\n",
        "\n",
        "<http://data.europeana.eu/item/04802/243FA8618938F4117025F17A8B813C5F9AA4D619>\n",
        "  dcterms:subject wd:Q12418 .\n",
        "\"\"\", format=\"text/turtle\")\n",
        "\n",
        "visualize_graph_pyvis(g,\"http://example.org/\")"
      ],
      "metadata": {
        "id": "fP--tYF9UoLB"
      },
      "execution_count": null,
      "outputs": []
    },
    {
      "cell_type": "markdown",
      "source": [
        "## Task 2:  Print RDF graph as HTML table (1 pt)\n",
        "\n",
        "Implement a function `rdf2htmltable(g)` that \n",
        "- takes as parameter an rdflib.Graph \n",
        "- generates and displays an HTML table representing that graph with\n",
        "  - one line per RDF statement \n",
        "  - three columns (subject, predicate, object) \n",
        "  - URIs should be shown in abbreviated form and be represented as links (`href=<full URI>`)\n",
        "\n",
        "Test the function with `rdf_str` and with your solution to task `0. Intro` in the `1. RDF` sheet in `SemAI.jar`."
      ],
      "metadata": {
        "id": "yF2WQ0YsQbhH"
      }
    },
    {
      "cell_type": "code",
      "source": [
        "def rdf2htmltable(g, base=None):\n",
        "    # Generate HTML table header\n",
        "    html = \"<table><tr><th>Subject</th><th>Predicate</th><th>Object</th></tr>\"\n",
        "    # Iterate over RDF statements and add rows to the table\n",
        "    for s, p, o in g:\n",
        "      sName=s\n",
        "      pName=p\n",
        "      oName=o\n",
        "      if not base == None:\n",
        "        if base in s.n3(): sName = (sName.replace(base,\"&lt;\")+\"&gt;\")\n",
        "        if base in p.n3(): pName = (pName.replace(base,\"&lt;\")+\"&gt;\")\n",
        "        if base in o.n3(): oName = (oName.replace(base,\"&lt;\")+\"&gt;\")\n",
        "\n",
        "      if isinstance(o, Literal) and o.datatype != None: oName = \"&quot;\" + str(o) +\"&quot;^^\" + str(o.datatype)\n",
        "\n",
        "      namespaceDict = {}\n",
        "      for ns in g.namespace_manager.namespaces():\n",
        "        namespaceDict[str(ns[1])] = ns[0]\n",
        "      for key in namespaceDict.keys():\n",
        "        sName = sName.replace(key,str(namespaceDict[key]+\":\"))\n",
        "        pName = pName.replace(key,str(namespaceDict[key]+\":\"))\n",
        "        oName = oName.replace(key,str(namespaceDict[key]+\":\"))\n",
        "      \n",
        "      # Create link for URIs using the full URI as href\n",
        "      sLink = f'<a href=\"{s}\">{sName}</a>'\n",
        "  \n",
        "      pLink = f'<a href=\"{p}\">{pName}</a>'\n",
        "  \n",
        "      oLink = f'<a href=\"{o}\">{oName}</a>'\n",
        "      # Generate HTML table row\n",
        "      html += f\"<tr><td>{sLink}</td><td>{pLink}</td><td>{oLink}</td></tr>\"\n",
        "    # Close HTML table tag\n",
        "    html += \"</table>\"\n",
        "    # Display HTML table\n",
        "    display(HTML(html))\n",
        "\n",
        "\n"
      ],
      "metadata": {
        "id": "Hz7PpFVjTkZG"
      },
      "execution_count": null,
      "outputs": []
    },
    {
      "cell_type": "code",
      "source": [
        "#T0\n",
        "\n",
        "g = Graph()\n",
        "g.parse(data = \"\"\"\n",
        "@prefix rdf:  <http://www.w3.org/1999/02/22-rdf-syntax-ns#> .\n",
        "@prefix foaf: <http://xmlns.com/foaf/0.1/> .\n",
        "@prefix ex:   <http://www.ex.org/> .\n",
        "\n",
        "ex:John a foaf:Person .\n",
        "ex:John foaf:knows ex:Mary .\"\"\", format=\"text/turtle\")\n",
        "\n",
        "rdf2htmltable(g)"
      ],
      "metadata": {
        "id": "4WlqwQjd8vCI"
      },
      "execution_count": null,
      "outputs": []
    },
    {
      "cell_type": "code",
      "source": [
        "#T1\n",
        "\n",
        "g = Graph()\n",
        "g.parse(data = \"\"\"@prefix rdf:  <http://www.w3.org/1999/02/22-rdf-syntax-ns#> .\n",
        "@prefix rdfs: <http://www.w3.org/2000/01/rdf-schema#> .\n",
        "@prefix xsd:  <http://www.w3.org/2001/XMLSchema#> .\n",
        "@prefix foaf: <http://xmlns.com/foaf/0.1/> .\n",
        "@prefix :     <http://www.ex.org/person#> .\n",
        "\n",
        ":Mary a foaf:Person .\n",
        ":Jim a foaf:Person .\n",
        ":Mary foaf:knows :Jim .\n",
        ":Mary foaf:age \"27\"^^xsd:integer .\"\"\", format=\"text/turtle\")\n",
        "\n",
        "rdf2htmltable(g)\n"
      ],
      "metadata": {
        "id": "dU8BRTMX9WZW"
      },
      "execution_count": null,
      "outputs": []
    },
    {
      "cell_type": "code",
      "source": [
        "#RDF-str:\n",
        "g = Graph()\n",
        "g.parse(data=\"\"\"BASE   <http://example.org/>\n",
        "PREFIX foaf: <http://xmlns.com/foaf/0.1/>\n",
        "PREFIX xsd: <http://www.w3.org/2001/XMLSchema#>\n",
        "PREFIX schema: <http://schema.org/>\n",
        "PREFIX dcterms: <http://purl.org/dc/terms/>\n",
        "PREFIX wd: <http://www.wikidata.org/entity/>\n",
        " \n",
        "<bob#me>\n",
        "   a foaf:Person ;\n",
        "   foaf:knows <alice#me> ;\n",
        "   schema:birthDate \"1990-07-04\"^^xsd:date ;\n",
        "   foaf:topic_interest wd:Q12418 .\n",
        "   \n",
        "wd:Q12418\n",
        "  dcterms:title \"Mona Lisa\" ;\n",
        "  dcterms:creator <http://dbpedia.org/resource/Leonardo_da_Vinci> .\n",
        "\n",
        "<http://data.europeana.eu/item/04802/243FA8618938F4117025F17A8B813C5F9AA4D619>\n",
        "  dcterms:subject wd:Q12418 .\n",
        "\"\"\", format=\"text/turtle\")\n",
        "\n",
        "rdf2htmltable(g,\"http://example.org/\")\n"
      ],
      "metadata": {
        "id": "SwPoauDMSED0"
      },
      "execution_count": null,
      "outputs": []
    },
    {
      "cell_type": "markdown",
      "source": [
        "## Task 3: A function for parsing and displaying an RDF graph (1 pt)\n",
        "\n",
        "A function `parse_display_rdf(str)` that takes as parameter a string which represents an RDF graph in Turtle notation and \n",
        "- produces an rdflib.Graph from that string\n",
        "- prints the graph in Turte notation\n",
        "- prints the graph in RDF/XML\n",
        "- visualizes it using `visualize_graph` (to be taken from `V01_rdf.ipynb`)\n",
        "- visualizes it using (your improved version of) `visualize_graph_pyvis`\n",
        "- outputs it using `rdf2htmltable` (only if you have implemented this function)\n",
        "\n",
        "Test the function with `rdf_str` and with your solution to task `0. Intro` in the `1. RDF` sheet in `SemAI.jar`."
      ],
      "metadata": {
        "id": "AvL1cSUQQNFg"
      }
    },
    {
      "cell_type": "code",
      "source": [
        "# A function to produce a graphical visualization of an RDF graph\n",
        "def visualize_graph(g,base=None):\n",
        "\n",
        "  def node_id(graph,term):\n",
        "    if isinstance(term,Literal): return term.n3(graph.namespace_manager)\n",
        "    else: return f\"\\\"{term.n3(graph.namespace_manager)}\\\"\"\n",
        "\n",
        "  def add_node(dg,g,t,base):\n",
        "    if isinstance(t,URIRef):\n",
        "      lbl = f\"\\\"{t.n3(g.namespace_manager)}\\\"\"\n",
        "      if(base): lbl = lbl.replace(base,\"\")\n",
        "      if(len(lbl)>25): lbl = lbl[:12] + \"...\" +  lbl[-12:] \n",
        "      dg.add_node(pydot.Node( node_id(g,t), label=lbl ))\n",
        "    if isinstance(t,Literal):\n",
        "      dg.add_node(pydot.Node( node_id(g,t), label=t.n3(g.namespace_manager), shape=\"box\"))\n",
        "    if isinstance(t,BNode):\n",
        "      dg.add_node(pydot.Node( node_id(g,t), label=\"\"))    \n",
        "\n",
        "  def add_edge(dg,g,s,p,o):\n",
        "    dg.add_edge(pydot.Edge(node_id(g,s), node_id(g,o), label=f\"\\\"{p.n3(g.namespace_manager)}\\\"\"))\n",
        "\n",
        "  dg = pydot.Dot('my_graph', graph_type='digraph',layout='sfdp', splines='curved' )\n",
        "\n",
        "  for subj in g.subjects(None,None): add_node(dg,g,subj,base)\n",
        "  for obj in g.objects(None,None): add_node(dg,g,obj,base)\n",
        "  for (s,p,o) in g: add_edge(dg,g,s,p,o)   \n",
        "\n",
        "  display(Image(dg.create_png()))"
      ],
      "metadata": {
        "id": "xHtWfRU8KTGu"
      },
      "execution_count": null,
      "outputs": []
    },
    {
      "cell_type": "code",
      "source": [
        "def parse_display_rdf(str, base=None):\n",
        "  g = Graph()\n",
        "  g.parse(data = str, format=\"text/turtle\")\n",
        "\n",
        "  # Print the graph in Turtle notation\n",
        "  print(\"Turtle notation:\")\n",
        "  print(g.serialize(format='turtle'))\n",
        "\n",
        "  # Print the graph in RDF/XML notation\n",
        "  print(\"RDF/XML notation:\")\n",
        "  print(g.serialize(format='xml'))\n",
        "\n",
        "  visualize_graph(g,base)\n",
        "  visualize_graph_pyvis(g,base)\n",
        "  rdf2htmltable(g,base)\n",
        "\n"
      ],
      "metadata": {
        "id": "nr-PRsrzTnQP"
      },
      "execution_count": null,
      "outputs": []
    },
    {
      "cell_type": "code",
      "source": [
        "data = \"\"\"\n",
        "@prefix rdf:  <http://www.w3.org/1999/02/22-rdf-syntax-ns#> .\n",
        "@prefix foaf: <http://xmlns.com/foaf/0.1/> .\n",
        "@prefix ex:   <http://www.ex.org/> .\n",
        "\n",
        "ex:John a foaf:Person .\n",
        "ex:John foaf:knows ex:Mary .\"\"\"\n",
        "\n",
        "parse_display_rdf(data)"
      ],
      "metadata": {
        "id": "zLY2AnZiKqFG"
      },
      "execution_count": null,
      "outputs": []
    },
    {
      "cell_type": "code",
      "source": [
        "data = \"\"\"@prefix rdf:  <http://www.w3.org/1999/02/22-rdf-syntax-ns#> .\n",
        "@prefix rdfs: <http://www.w3.org/2000/01/rdf-schema#> .\n",
        "@prefix xsd:  <http://www.w3.org/2001/XMLSchema#> .\n",
        "@prefix foaf: <http://xmlns.com/foaf/0.1/> .\n",
        "@prefix :     <http://www.ex.org/person#> .\n",
        "\n",
        ":Mary a foaf:Person .\n",
        ":Jim a foaf:Person .\n",
        ":Mary foaf:knows :Jim .\n",
        ":Mary foaf:age \"27\"^^xsd:integer .\"\"\"\n",
        "\n",
        "data = \"\"\"@prefix rdf:  <http://www.w3.org/1999/02/22-rdf-syntax-ns#> .\n",
        "@prefix rdfs: <http://www.w3.org/2000/01/rdf-schema#> .\n",
        "@prefix xsd:  <http://www.w3.org/2001/XMLSchema#> .\n",
        "@prefix foaf: <http://xmlns.com/foaf/0.1/> .\n",
        "@prefix :     <http://www.ex.org/person#> .\n",
        "\n",
        ":Mary a foaf:Person .\n",
        ":Jim a foaf:Person .\n",
        ":Mary foaf:knows :Jim .\n",
        ":Mary foaf:age \"27\"^^xsd:integer .\"\"\"\n",
        "\n",
        "parse_display_rdf(data)"
      ],
      "metadata": {
        "id": "ecSm0a6hLCa7"
      },
      "execution_count": null,
      "outputs": []
    },
    {
      "cell_type": "code",
      "source": [
        "data = \"\"\"BASE   <http://example.org/>\n",
        "PREFIX foaf: <http://xmlns.com/foaf/0.1/>\n",
        "PREFIX xsd: <http://www.w3.org/2001/XMLSchema#>\n",
        "PREFIX schema: <http://schema.org/>\n",
        "PREFIX dcterms: <http://purl.org/dc/terms/>\n",
        "PREFIX wd: <http://www.wikidata.org/entity/>\n",
        " \n",
        "<bob#me>\n",
        "   a foaf:Person ;\n",
        "   foaf:knows <alice#me> ;\n",
        "   schema:birthDate \"1990-07-04\"^^xsd:date ;\n",
        "   foaf:topic_interest wd:Q12418 .\n",
        "   \n",
        "wd:Q12418\n",
        "  dcterms:title \"Mona Lisa\" ;\n",
        "  dcterms:creator <http://dbpedia.org/resource/Leonardo_da_Vinci> .\n",
        "\n",
        "<http://data.europeana.eu/item/04802/243FA8618938F4117025F17A8B813C5F9AA4D619>\n",
        "  dcterms:subject wd:Q12418 .\n",
        "\"\"\"\n",
        "\n",
        "parse_display_rdf(data,\"http://example.org/\")\n",
        "\n"
      ],
      "metadata": {
        "id": "OVTKZ9zmLlGl"
      },
      "execution_count": null,
      "outputs": []
    },
    {
      "cell_type": "markdown",
      "source": [
        "# Tasks 4-10 (1 point each)\n",
        "\n",
        "For each of the remaining 7 tasks in the \"1. RDF\" sheet in `SemAI.jar` do the following: \n",
        "- add a text cell in this notebook \n",
        "  - with the description of the task from `SemAI.jar` \n",
        "  - with number and title (e.g., **1. Simple Data Graph**)  from `SemAI.jar` as header \n",
        "- add a code cell where you apply `parse_display_rdf(str)` on your solution"
      ],
      "metadata": {
        "id": "6efAFC8dQexI"
      }
    },
    {
      "cell_type": "markdown",
      "source": [
        "##1.Simple Data Graph\n",
        "Create an RDF graph in Turtle notation. Use the FOAF vocabulary to state the following.\n",
        "\n",
        "+ Mary and Jim are persons.\n",
        "+ Mary knows Jim.\n",
        "+ Mary is 27 years old.\n",
        "\n",
        "The URIs for the two persons should be http://www.ex.org/person#Mary and http://www.ex.org/person#Jim. The age of Mary should be represented as an integer."
      ],
      "metadata": {
        "id": "9WSORBaQY0wb"
      }
    },
    {
      "cell_type": "code",
      "source": [
        "parse_display_rdf(\"\"\"@prefix rdf:  <http://www.w3.org/1999/02/22-rdf-syntax-ns#> .\n",
        "@prefix rdfs: <http://www.w3.org/2000/01/rdf-schema#> .\n",
        "@prefix xsd:  <http://www.w3.org/2001/XMLSchema#> .\n",
        "@prefix foaf: <http://xmlns.com/foaf/0.1/> .\n",
        "@prefix :     <http://www.ex.org/person#> .\n",
        "\n",
        ":Mary a foaf:Person .\n",
        ":Jim a foaf:Person .\n",
        ":Mary foaf:knows :Jim .\n",
        ":Mary foaf:age \"27\"^^xsd:integer .\"\"\")"
      ],
      "metadata": {
        "id": "dXKHXFJ7Yyx3"
      },
      "execution_count": null,
      "outputs": []
    },
    {
      "cell_type": "markdown",
      "source": [
        "##2. Simple Schema\n",
        "\n",
        "Create a vocabulary using RDFS in Turtle. Specify\n",
        "\n",
        "+ Classes Company, Employee, and Person\n",
        "+ Property worksFor between Employee and Company\n",
        "+ Property salary of Employee with Integer as data type\n",
        "+ Class Employee is a subclass of Person\n",
        "+ Use XSD for data types. The URIs of classes and properties are in namespace <http://www.ex.org/vocabulary#>, for example, <http://www.ex.org/vocabulary#Company>\n"
      ],
      "metadata": {
        "id": "WuY_qeb-Nv6M"
      }
    },
    {
      "cell_type": "code",
      "source": [
        "parse_display_rdf(\"\"\"@prefix rdf:  <http://www.w3.org/1999/02/22-rdf-syntax-ns#> .\n",
        "@prefix rdfs: <http://www.w3.org/2000/01/rdf-schema#> .\n",
        "@prefix xsd:  <http://www.w3.org/2001/XMLSchema#> .\n",
        "@prefix :     <http://www.ex.org/vocabulary#> .\n",
        "\n",
        ":Company a rdfs:Class .\n",
        ":Employee a rdfs:Class .\n",
        ":Person a rdfs:Class .\n",
        ":Employee rdfs:subClassOf :Person .\n",
        "\n",
        ":salary a rdf:Property .\n",
        ":salary rdfs:domain :Employee .\n",
        ":salary rdfs:range xsd:integer .\n",
        "\n",
        ":worksFor a rdf:Property .\n",
        ":worksFor rdfs:domain :Employee .\n",
        ":worksFor rdfs:range :Company .\"\"\")"
      ],
      "metadata": {
        "id": "qbiy9AkeNFI7"
      },
      "execution_count": null,
      "outputs": []
    },
    {
      "cell_type": "markdown",
      "source": [
        "##3. Reification\n",
        "Create an RDF graph in Turtle notation. Use the RDF vocabulary where applicable and the example namesspace (ex:) for all other resources (ex:Mary, ex:John, ex:says, ex:loves). Hint: the lecture slides contain a similar reification example.\n",
        "\n",
        "+ Mary says that John loves her."
      ],
      "metadata": {
        "id": "jzx-uOP7Oc0o"
      }
    },
    {
      "cell_type": "code",
      "source": [
        "\n",
        "parse_display_rdf(\"\"\"@prefix rdf:  <http://www.w3.org/1999/02/22-rdf-syntax-ns#> .\n",
        "@prefix ex:   <http://www.ex.org/> .\n",
        "\n",
        "ex:aStmt a rdf:Statement .\n",
        "ex:aStmt rdf:subject ex:John .\n",
        "ex:aStmt rdf:predicate ex:loves .\n",
        "ex:aStmt rdf:object ex:Mary .\n",
        "\n",
        "ex:Mary ex:says ex:aStmt .\"\"\")\n",
        "\n"
      ],
      "metadata": {
        "id": "xmzakMXVOXZx"
      },
      "execution_count": null,
      "outputs": []
    },
    {
      "cell_type": "markdown",
      "source": [
        "##4. Blank Node\n",
        "Create an RDF graph in Turtle notation. Use the RDF and FOAF vocabularies where applicable and the example namesspace (ex:) for the other resources.\n",
        "\n",
        "+ John knows a person, who knows Mary.\n",
        "+ Use a blank node to represent that anonymous person."
      ],
      "metadata": {
        "id": "OEIGP8DEO-kl"
      }
    },
    {
      "cell_type": "code",
      "source": [
        "\n",
        "parse_display_rdf(\"\"\"@prefix rdf:  <http://www.w3.org/1999/02/22-rdf-syntax-ns#> .\n",
        "@prefix foaf: <http://xmlns.com/foaf/0.1/> .\n",
        "@prefix ex:   <http://www.ex.org/> .\n",
        "\n",
        "ex:John foaf:knows _:p .\n",
        "_:p foaf:knows ex:Mary .\n",
        "_:p a foaf:Person .\n",
        "\"\"\")\n",
        "\n"
      ],
      "metadata": {
        "id": "Uk5gZ1yvO-kq"
      },
      "execution_count": null,
      "outputs": []
    },
    {
      "cell_type": "markdown",
      "source": [
        "##5. Multiple Classification\n",
        "Create an RDF graph in Turtle notation. Use the RDF vocabulary where applicable and the example namesspace (ex:) for the other resources.\n",
        "\n",
        "+ John is an instance of SoccerPlayer and of Student."
      ],
      "metadata": {
        "id": "vTd7vpdNPkNT"
      }
    },
    {
      "cell_type": "code",
      "source": [
        "\n",
        "parse_display_rdf(\"\"\"@prefix rdf:  <http://www.w3.org/1999/02/22-rdf-syntax-ns#> .\n",
        "@prefix ex:   <http://www.ex.org/> .\n",
        "\n",
        "ex:John a ex:SoccerPlayer .\n",
        "ex:John a ex:Student .\n",
        "\"\"\")\n"
      ],
      "metadata": {
        "id": "2T3Yh1GCPlo7"
      },
      "execution_count": null,
      "outputs": []
    },
    {
      "cell_type": "markdown",
      "source": [
        "##6. Metamodeling\n",
        "Create an RDF graph in Turtle notation. Use the RDF and RDF Schema vocabularies where applicable and the example namesspace (ex:) for the other resources.\n",
        "\n",
        "+ Dog and Cat are instances of Species and subclasses of Animal.\n",
        "+ Lassie is an instance of Dog."
      ],
      "metadata": {
        "id": "kVNKshEeP_xC"
      }
    },
    {
      "cell_type": "code",
      "source": [
        "\n",
        "parse_display_rdf(\"\"\"@prefix rdf:  <http://www.w3.org/1999/02/22-rdf-syntax-ns#> .\n",
        "@prefix rdfs: <http://www.w3.org/2000/01/rdf-schema#> .\n",
        "@prefix ex:   <http://www.ex.org/> .\n",
        "\n",
        "ex:Dog a ex:Species .\n",
        "ex:Cat a ex:Species . \n",
        "ex:Dog rdfs:subClassOf ex:Animal .\n",
        "ex:Cat rdfs:subClassOf ex:Animal .\n",
        "ex:Lassie a ex:Dog .\n",
        "\"\"\")\n"
      ],
      "metadata": {
        "id": "K5O_PefnP_xG"
      },
      "execution_count": null,
      "outputs": []
    },
    {
      "cell_type": "markdown",
      "source": [
        "##7. Properties\n",
        "Create an RDF graph in Turtle notation. Use the RDF and RDF Schema vocabularies where applicable and the example namesspace (ex:) for the other resources, e.g., ex:childOf, ex:descendantOf.\n",
        "\n",
        "+ Everyone who is a child of someone, is also a descendant of that someone."
      ],
      "metadata": {
        "id": "JoDJOwq6Qbpq"
      }
    },
    {
      "cell_type": "code",
      "source": [
        "\n",
        "parse_display_rdf(\"\"\"@prefix rdf:  <http://www.w3.org/1999/02/22-rdf-syntax-ns#> .\n",
        "@prefix rdfs: <http://www.w3.org/2000/01/rdf-schema#> .\n",
        "@prefix ex:   <http://www.ex.org/> .\n",
        "\n",
        "ex:childOf rdfs:subPropertyOf ex:descendantOf .\n",
        "\"\"\")\n"
      ],
      "metadata": {
        "id": "nzct9kZLQbpv"
      },
      "execution_count": null,
      "outputs": []
    }
  ],
  "metadata": {
    "kernelspec": {
      "display_name": "Python 3",
      "language": "python",
      "name": "python3"
    },
    "language_info": {
      "codemirror_mode": {
        "name": "ipython",
        "version": 3
      },
      "file_extension": ".py",
      "mimetype": "text/x-python",
      "name": "python",
      "nbconvert_exporter": "python",
      "pygments_lexer": "ipython3",
      "version": "3.6.7"
    },
    "colab": {
      "provenance": [],
      "collapsed_sections": [
        "AvL1cSUQQNFg",
        "9WSORBaQY0wb",
        "WuY_qeb-Nv6M",
        "jzx-uOP7Oc0o",
        "OEIGP8DEO-kl",
        "vTd7vpdNPkNT",
        "kVNKshEeP_xC",
        "JoDJOwq6Qbpq"
      ]
    }
  },
  "nbformat": 4,
  "nbformat_minor": 0
}