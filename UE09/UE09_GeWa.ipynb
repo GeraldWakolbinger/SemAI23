{
  "nbformat": 4,
  "nbformat_minor": 0,
  "metadata": {
    "colab": {
      "provenance": []
    },
    "kernelspec": {
      "name": "python3",
      "display_name": "Python 3"
    },
    "language_info": {
      "name": "python"
    }
  },
  "cells": [
    {
      "cell_type": "code",
      "source": [
        "!pip install -q pgmpy networkx matplotlib plotly daft"
      ],
      "metadata": {
        "id": "8jA8t2_90-pA"
      },
      "execution_count": null,
      "outputs": []
    },
    {
      "cell_type": "code",
      "source": [
        "import numpy as np\n",
        "from pgmpy.models import BayesianNetwork\n",
        "from pgmpy.factors.discrete import TabularCPD\n",
        "import networkx as nx\n",
        "import matplotlib.pyplot as plt\n",
        "from pgmpy.inference import VariableElimination"
      ],
      "metadata": {
        "id": "xq4idTOk1AKz"
      },
      "execution_count": null,
      "outputs": []
    },
    {
      "cell_type": "code",
      "source": [
        "from pgmpy.factors.discrete.CPD import TabularCPD\n",
        "\n",
        "def print_full(cpd):\n",
        "    backup = TabularCPD._truncate_strtable\n",
        "    TabularCPD._truncate_strtable = lambda self, x: x\n",
        "    print(cpd)\n",
        "    TabularCPD._truncate_strtable = backup"
      ],
      "metadata": {
        "id": "xY0GA5kM568A"
      },
      "execution_count": null,
      "outputs": []
    },
    {
      "cell_type": "code",
      "source": [
        "#Q01\n",
        "statenames = {\n",
        "'TrainStrike': ['True', 'False'],\n",
        "'PeterLate': ['True', 'False'],\n",
        "'JohannaLate': ['True', 'False'],\n",
        "'PetersAlarmFails': ['True', 'False']}\n",
        "\n",
        "model = BayesianNetwork([('PetersAlarmFails', 'PeterLate'),\n",
        "                         ('TrainStrike', 'PeterLate'),\n",
        "                         ('TrainStrike', 'JohannaLate')])\n",
        "\n",
        "model.to_daft().render()\n",
        "\n",
        "# Define the probability distribution for 'PetersAlarmFails' (P(PetersAlarmFails))\n",
        "cpd_petersalarmfails = TabularCPD(variable='PetersAlarmFails', variable_card=2,\n",
        "                          state_names=statenames,\n",
        "                          values=[[0.1], [0.9]])\n",
        "# Define the probability distribution for 'TrainStrike' (P(TrainStrike))\n",
        "cpd_trainstrike = TabularCPD(variable='TrainStrike', variable_card=2,\n",
        "                          state_names=statenames,\n",
        "                          values=[[0.05], [0.95]])\n",
        "\n",
        "# Define the conditional probability distribution for 'Test' (P(Test | Infected))\n",
        "cpd_peterlate = TabularCPD(variable='PeterLate', variable_card=2,\n",
        "                      state_names=statenames,\n",
        "                      evidence=['TrainStrike','PetersAlarmFails'], evidence_card=[2,2],\n",
        "                      values = [[0.7, 0.3, 0.4, 0.01],\n",
        "                                [0.3, 0.7, 0.6, 0.99]])\n",
        "\n",
        "cpd_johannalate = TabularCPD(variable='JohannaLate', variable_card=2,\n",
        "                      state_names=statenames,\n",
        "                      evidence=['TrainStrike',], evidence_card=[2],\n",
        "                      values = [[0.5, 0.02],\n",
        "                                [0.5, 0.98]])\n",
        "\n",
        "\n",
        "model.add_cpds(cpd_petersalarmfails, cpd_trainstrike, cpd_peterlate, cpd_johannalate)\n",
        "# print the conditional probability distributions\n",
        "for cpd in model.get_cpds():\n",
        "  print_full(cpd)\n",
        "\n"
      ],
      "metadata": {
        "id": "f6pMZQ1i1KRa"
      },
      "execution_count": null,
      "outputs": []
    },
    {
      "cell_type": "code",
      "source": [
        "#Q02\n",
        "inference = VariableElimination(model)\n",
        "\n",
        "print(inference.query(variables=['PeterLate']))\n",
        "print(inference.query(variables=['JohannaLate']))\n"
      ],
      "metadata": {
        "id": "gu7vgvpm6JX1"
      },
      "execution_count": null,
      "outputs": []
    },
    {
      "cell_type": "code",
      "source": [
        "#Q03\n",
        "inference = VariableElimination(model)\n",
        "\n",
        "evidence={'PetersAlarmFails':'True'}\n",
        "result = inference.query(variables=['JohannaLate'], evidence=evidence)\n",
        "print(evidence)\n",
        "print(result)"
      ],
      "metadata": {
        "id": "ZkpjQq7I6vvD"
      },
      "execution_count": null,
      "outputs": []
    },
    {
      "cell_type": "code",
      "source": [
        "#Q04\n",
        "inference = VariableElimination(model)\n",
        "\n",
        "evidence={'PeterLate':'True'}\n",
        "result = inference.query(variables=['JohannaLate'], evidence=evidence)\n",
        "print(evidence)\n",
        "print(result)"
      ],
      "metadata": {
        "id": "KN4GlmdJ7ARs"
      },
      "execution_count": null,
      "outputs": []
    },
    {
      "cell_type": "code",
      "source": [
        "#Q05\n",
        "inference = VariableElimination(model)\n",
        "\n",
        "evidence={'PeterLate':'True', 'PetersAlarmFails':'False'}\n",
        "result = inference.query(variables=['JohannaLate'], evidence=evidence)\n",
        "print(evidence)\n",
        "print(result)"
      ],
      "metadata": {
        "id": "eIGEWdY37N2W"
      },
      "execution_count": null,
      "outputs": []
    }
  ]
}